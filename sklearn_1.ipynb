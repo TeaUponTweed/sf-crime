{
 "cells": [
  {
   "cell_type": "code",
   "execution_count": 22,
   "metadata": {
    "collapsed": true
   },
   "outputs": [],
   "source": [
    "import json as js\n",
    "import numpy as np\n",
    "import pandas as pd\n",
    "import seaborn as sns\n",
    "import matplotlib.pyplot as plt\n",
    "import time\n",
    "import datetime"
   ]
  },
  {
   "cell_type": "code",
   "execution_count": 23,
   "metadata": {
    "collapsed": true
   },
   "outputs": [],
   "source": [
    "from sklearn.ensemble import AdaBoostClassifier\n",
    "from sklearn.tree import DecisionTreeClassifier\n",
    "from sklearn.neighbors import KNeighborsClassifier\n",
    "from sklearn.linear_model import SGDClassifier\n",
    "from sklearn.cross_validation import train_test_split\n",
    "from sklearn.preprocessing import StandardScaler\n",
    "from sklearn.learning_curve import validation_curve\n",
    "from sklearn import grid_search\n",
    "from sklearn import preprocessing\n",
    "from sklearn import metrics"
   ]
  },
  {
   "cell_type": "code",
   "execution_count": 41,
   "metadata": {
    "collapsed": false
   },
   "outputs": [
    {
     "name": "stdout",
     "output_type": "stream",
     "text": [
      "Reading data...\n",
      "(878049, 9)\n",
      "(884262, 7)\n"
     ]
    }
   ],
   "source": [
    "# Read CSV Data Into Pandas\n",
    "print \"Reading data...\"\n",
    "train_file = './train.csv'\n",
    "test_file = './test.csv'\n",
    "train_df = pd.read_csv(train_file)\n",
    "test_df = pd.read_csv(test_file)\n",
    "print train_df.shape\n",
    "print test_df.shape"
   ]
  },
  {
   "cell_type": "code",
   "execution_count": 42,
   "metadata": {
    "collapsed": true
   },
   "outputs": [],
   "source": [
    "# Remove really unlikely categories\n",
    "train_df = train_df[train_df['Category'] != 'TREA']\n",
    "train_df = train_df[train_df['Category'] != 'PORNOGRAPHY/OBSCENE MAT']\n",
    "# train_df = train_df.loc[train_df['Category'] not in ['PORNOGRAPHY/OBSCENE MAT','TREA']]\n",
    "# print len(train_df.index)"
   ]
  },
  {
   "cell_type": "code",
   "execution_count": 43,
   "metadata": {
    "collapsed": false
   },
   "outputs": [
    {
     "name": "stdout",
     "output_type": "stream",
     "text": [
      "878021\n"
     ]
    }
   ],
   "source": [
    "# Pull out desired number of training instances\n",
    "print len(train_df)\n",
    "num_inputs = 100000\n",
    "rand_input_vec = np.random.choice(len(train_df.index), num_inputs, replace=False)\n",
    "train_df = train_df.iloc[rand_input_vec,:]"
   ]
  },
  {
   "cell_type": "code",
   "execution_count": 44,
   "metadata": {
    "collapsed": false
   },
   "outputs": [
    {
     "name": "stdout",
     "output_type": "stream",
     "text": [
      "Creating features\n"
     ]
    }
   ],
   "source": [
    "# Create Date/Time Base Features\n",
    "print \"Creating features\"\n",
    "date_str = '%Y-%m-%d %H:%M:%S'\n",
    "train_df['Year'] = pd.to_datetime(train_df['Dates'], format=date_str).apply(lambda x: x.year)\n",
    "test_df['Year'] = pd.to_datetime(test_df['Dates'], format=date_str).apply(lambda x: x.year)\n",
    "train_df['Month'] = pd.to_datetime(train_df['Dates'], format=date_str).apply(lambda x: x.month)\n",
    "test_df['Month'] = pd.to_datetime(test_df['Dates'], format=date_str).apply(lambda x: x.month)\n",
    "train_df['Day'] = pd.to_datetime(train_df['Dates'], format=date_str).apply(lambda x: x.day)\n",
    "test_df['Day'] = pd.to_datetime(test_df['Dates'], format=date_str).apply(lambda x: x.day)\n",
    "train_df['YearDay'] = pd.to_datetime(train_df['Dates'], format=date_str).apply(lambda x: x.dayofyear)\n",
    "test_df['YearDay'] = pd.to_datetime(test_df['Dates'], format=date_str).apply(lambda x: x.dayofyear)\n",
    "train_df['YearWeek'] = pd.to_datetime(train_df['Dates'], format=date_str).apply(lambda x: x.week)\n",
    "test_df['YearWeek'] = pd.to_datetime(test_df['Dates'], format=date_str).apply(lambda x: x.week)\n",
    "x = train_df[['Year','Month','Day','YearDay','YearWeek','DayOfWeek','PdDistrict','X','Y']].values\n",
    "y = train_df[['Category']].values\n",
    "\n",
    "x_submit = test_df[['Year','Month','Day','YearDay','YearWeek','DayOfWeek','PdDistrict','X','Y']].values"
   ]
  },
  {
   "cell_type": "code",
   "execution_count": 45,
   "metadata": {
    "collapsed": false
   },
   "outputs": [
    {
     "name": "stdout",
     "output_type": "stream",
     "text": [
      "Encoding Categorical Data\n"
     ]
    }
   ],
   "source": [
    "# y_le = preprocessing.LabelEncoder()\n",
    "# y_le.fit(Y)\n",
    "# Y_train = y_le.transform(Y)\n",
    "print \"Encoding Categorical Data\"\n",
    "LE_DoW = preprocessing.LabelEncoder()\n",
    "LE_PdD = preprocessing.LabelEncoder()\n",
    "LE_DoW.fit(x[:,5])\n",
    "LE_PdD.fit(x[:,6])\n",
    "x_DoW = np.array(LE_DoW.transform(x[:,5]))\n",
    "x_PdD = np.array(LE_PdD.transform(x[:,6]))\n",
    "x_submit_DoW = np.array(LE_DoW.transform(x_submit[:,5]))\n",
    "x_submit_PdD = np.array(LE_PdD.transform(x_submit[:,6]))"
   ]
  },
  {
   "cell_type": "code",
   "execution_count": 46,
   "metadata": {
    "collapsed": true
   },
   "outputs": [],
   "source": [
    "x_LE = np.column_stack((x[:,0], x[:,1], x[:,2],  x[:,3],  x[:,4], x_DoW, x_PdD, x[:,7], x[:,8]))\n",
    "x_submit_LE = np.column_stack((x_submit[:,0], x_submit[:,1], x_submit[:,2], x_submit[:,3], x_submit[:,4], x_submit_DoW, x_submit_PdD, x_submit[:,7], x_submit[:,8]))"
   ]
  },
  {
   "cell_type": "code",
   "execution_count": 47,
   "metadata": {
    "collapsed": true
   },
   "outputs": [],
   "source": [
    "x_OHE = preprocessing.OneHotEncoder(n_values='auto', categorical_features=[0, 1, 2, 5, 6], sparse=False)\n",
    "x_submit_OHE = preprocessing.OneHotEncoder(n_values='auto', categorical_features=[0, 1, 2, 5, 6], sparse=False)\n",
    "x_OHE.fit(x_LE)\n",
    "x_submit_OHE.fit(x_submit_LE)\n",
    "x_feat = x_OHE.transform(x_LE)\n",
    "x_submit_feat = x_submit_OHE.transform(x_submit_LE)"
   ]
  },
  {
   "cell_type": "code",
   "execution_count": 48,
   "metadata": {
    "collapsed": false
   },
   "outputs": [
    {
     "name": "stdout",
     "output_type": "stream",
     "text": [
      "['ARSON', 'ASSAULT', 'BAD CHECKS', 'BRIBERY', 'BURGLARY', 'DISORDERLY CONDUCT', 'DRIVING UNDER THE INFLUENCE', 'DRUG/NARCOTIC', 'DRUNKENNESS', 'EMBEZZLEMENT', 'EXTORTION', 'FAMILY OFFENSES', 'FORGERY/COUNTERFEITING', 'FRAUD', 'GAMBLING', 'KIDNAPPING', 'LARCENY/THEFT', 'LIQUOR LAWS', 'LOITERING', 'MISSING PERSON', 'NON-CRIMINAL', 'OTHER OFFENSES', 'PROSTITUTION', 'RECOVERED VEHICLE', 'ROBBERY', 'RUNAWAY', 'SECONDARY CODES', 'SEX OFFENSES FORCIBLE', 'SEX OFFENSES NON FORCIBLE', 'STOLEN PROPERTY', 'SUICIDE', 'SUSPICIOUS OCC', 'TRESPASS', 'VANDALISM', 'VEHICLE THEFT', 'WARRANTS', 'WEAPON LAWS']\n",
      "37\n"
     ]
    }
   ],
   "source": [
    "y_LE = preprocessing.LabelEncoder()\n",
    "y_LE.fit(y.ravel())\n",
    "y_feat = y_LE.transform(y)\n",
    "#Series(df.values.ravel()).unique()\n",
    "# feature_set = y_LE.inverse_transform(np.arange(pd.Series(train_df[['Category']].values().ravel()).nunique()))\n",
    "feature_set = list(y_LE.classes_)\n",
    "print feature_set\n",
    "print len(feature_set)"
   ]
  },
  {
   "cell_type": "code",
   "execution_count": 49,
   "metadata": {
    "collapsed": false
   },
   "outputs": [],
   "source": [
    "# Split into test and train sets\n",
    "X_train, X_test, y_train, y_test = train_test_split(x_feat, y_feat, test_size=0.2, random_state=0)"
   ]
  },
  {
   "cell_type": "code",
   "execution_count": 50,
   "metadata": {
    "collapsed": false
   },
   "outputs": [
    {
     "name": "stdout",
     "output_type": "stream",
     "text": [
      "Scaling Data\n",
      "(80000, 77)\n",
      "(20000, 77)\n",
      "(884262, 77)\n"
     ]
    }
   ],
   "source": [
    "# Normalize Data\n",
    "# ------------------------------\n",
    "print \"Scaling Data\"\n",
    "scaler = StandardScaler()\n",
    "scaler.fit(X_train)\n",
    "X_train = scaler.transform(X_train)\n",
    "X_test = scaler.transform(X_test)  # apply same transformation to test data\n",
    "X_submit = scaler.transform(x_submit_feat)\n",
    "print X_train.shape\n",
    "print X_test.shape\n",
    "print X_submit.shape"
   ]
  },
  {
   "cell_type": "code",
   "execution_count": 51,
   "metadata": {
    "collapsed": false
   },
   "outputs": [
    {
     "name": "stdout",
     "output_type": "stream",
     "text": [
      "Training Classifier\n"
     ]
    }
   ],
   "source": [
    "print \"Training Classifier\""
   ]
  },
  {
   "cell_type": "code",
   "execution_count": 53,
   "metadata": {
    "collapsed": true
   },
   "outputs": [],
   "source": [
    "# Boosted classifier\n",
    "# ------------------------------\n",
    "# Create boosted decision tree\n",
    "# dt = DecisionTreeClassifier()\n",
    "# dt = KNeighborsClassifier()\n",
    "# clf = AdaBoostClassifier(n_estimators=10, base_estimator=dt, learning_rate=1)\n",
    "# clf = AdaBoostClassifier(n_estimators=25)\n",
    "# clf.fit(X_train, y_train.ravel())\n",
    "# y_pred = clf.predict(X_test)\n",
    "# print(metrics.accuracy_score( y_test, y_pred))"
   ]
  },
  {
   "cell_type": "code",
   "execution_count": 58,
   "metadata": {
    "collapsed": false
   },
   "outputs": [
    {
     "name": "stdout",
     "output_type": "stream",
     "text": [
      "3.68728140794\n"
     ]
    }
   ],
   "source": [
    "# SGDClassifier\n",
    "# ------------------------------\n",
    "clf = SGDClassifier(loss=\"log\", shuffle=True, class_weight=\"balanced\").fit(X_train, y_train.ravel())\n",
    "clf.fit(X_train, y_train.ravel())\n",
    "y_pred = clf.predict_proba(X_test)\n",
    "print (metrics.log_loss(y_test, y_pred))"
   ]
  },
  {
   "cell_type": "code",
   "execution_count": 59,
   "metadata": {
    "collapsed": false
   },
   "outputs": [],
   "source": [
    "# Grid Search on SGDClassifier\n",
    "# ------------------------------\n",
    "# svr = SGDClassifier(loss=\"log\", class_weight=\"balanced\")\n",
    "# svr = SGDClassifier(loss=\"hinge\")\n",
    "# params = {'alpha': 10.0**-np.arange(1,7)} \n",
    "# clf = grid_search.GridSearchCV(svr, params, refit=True).fit(X_train, y_train.ravel())\n",
    "\n",
    "# y_pred = clf.predict_proba(X_test)\n",
    "# print (metrics.log_loss(y_test, y_pred))"
   ]
  },
  {
   "cell_type": "code",
   "execution_count": 60,
   "metadata": {
    "collapsed": true
   },
   "outputs": [],
   "source": [
    "# Plot Predicted Categories\n",
    "# ------------------------------\n",
    "# print \"Plotting results\"\n",
    "# results = sns.countplot(y_test.flatten())\n",
    "# results = sns.countplot(y_pred)\n",
    "# plt.show()"
   ]
  },
  {
   "cell_type": "code",
   "execution_count": 61,
   "metadata": {
    "collapsed": true
   },
   "outputs": [],
   "source": [
    "# Plot learning curve\n",
    "# ------------------------------\n",
    "# X_train, y_train, X_test, y_test = split(X, y)\n",
    "# n_samples = X_train.shape[0]\n",
    "# range_array = [40, 400, 4000]\n",
    "# train_scores, test_scores = [], []\n",
    "# for n in range_array:\n",
    "#     print \"for flag\" + str(n)\n",
    "#     clf.fit(X_train[:n], y_train[:n])\n",
    "#     y_train_pred = clf.predict(X_train[:n])\n",
    "#     y_test_pred = clf.predict(X_test)\n",
    "#     train_scores.append(metrics.accuracy_score(y_train_pred, y_train[:n]))\n",
    "#     test_scores.append(metrics.accuracy_score(y_test_pred, y_test))\n",
    "# plt.plot(range_array, train_scores)\n",
    "# plt.plot(range_array, test_scores)\n",
    "# plt.show()"
   ]
  },
  {
   "cell_type": "code",
   "execution_count": 65,
   "metadata": {
    "collapsed": true
   },
   "outputs": [],
   "source": [
    "# Create output data\n",
    "# ------------------------------\n",
    "header_sub = ['Id','ARSON','ASSAULT','BAD CHECKS','BRIBERY','BURGLARY','DISORDERLY CONDUCT','DRIVING UNDER THE INFLUENCE','DRUG/NARCOTIC','DRUNKENNESS','EMBEZZLEMENT','EXTORTION','FAMILY OFFENSES','FORGERY/COUNTERFEITING','FRAUD','GAMBLING','KIDNAPPING','LARCENY/THEFT','LIQUOR LAWS','LOITERING','MISSING PERSON','NON-CRIMINAL','OTHER OFFENSES','PORNOGRAPHY/OBSCENE MAT','PROSTITUTION','RECOVERED VEHICLE','ROBBERY','RUNAWAY','SECONDARY CODES','SEX OFFENSES FORCIBLE','SEX OFFENSES NON FORCIBLE','STOLEN PROPERTY','SUICIDE','SUSPICIOUS OCC','TREA','TRESPASS','VANDALISM','VEHICLE THEFT','WARRANTS','WEAPON LAWS']\n",
    "# current_time = datetime.datetime.now().time().isoformat()\n",
    "current_time = datetime.datetime.strftime(datetime.datetime.now(), '%Y%m%d_%H%M%S')\n",
    "file_name = \"submissions/submission_\" + str(current_time)\n",
    "y_submit = clf.predict_proba(X_submit)\n",
    "submit_df = pd.DataFrame(y_submit)\n",
    "\n",
    "missing_categories = list(set(header_sub) - set(feature_set))\n",
    "\n",
    "for feat in missing_categories:\n",
    "    submit_df[feat] = pd.Series(np.zeros( len(y_submit)), index=submit_df.index)\n",
    "\n",
    "# submit_df['PORNOGRAPHY/OBSCENE MAT'] = pd.Series( np.zeros( len(y_submit)), index=submit_df.index)\n",
    "# submit_df['TREA'] = pd.Series( np.zeros( len(y_submit)), index=submit_df.index)\n",
    "submit_df.to_csv( file_name, index=True, sep=',', header=header_sub, float_format='%.6f')"
   ]
  },
  {
   "cell_type": "code",
   "execution_count": null,
   "metadata": {
    "collapsed": true
   },
   "outputs": [],
   "source": []
  }
 ],
 "metadata": {
  "kernelspec": {
   "display_name": "Python 2",
   "language": "python",
   "name": "python2"
  },
  "language_info": {
   "codemirror_mode": {
    "name": "ipython",
    "version": 2
   },
   "file_extension": ".py",
   "mimetype": "text/x-python",
   "name": "python",
   "nbconvert_exporter": "python",
   "pygments_lexer": "ipython2",
   "version": "2.7.11"
  }
 },
 "nbformat": 4,
 "nbformat_minor": 0
}
